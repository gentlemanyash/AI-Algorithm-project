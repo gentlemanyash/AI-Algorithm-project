{
 "cells": [
  {
   "cell_type": "code",
   "execution_count": 74,
   "id": "5e276146",
   "metadata": {},
   "outputs": [],
   "source": [
    "import pandas as pd\n",
    "import numpy as np\n",
    "import itertools\n",
    "\n",
    "from tensorflow.keras.models import Sequential\n",
    "from tensorflow.keras.layers import Dense, Input, Dropout, SimpleRNN,LSTM, Activation\n",
    "from tensorflow.keras.utils import to_categorical\n",
    "from sklearn.metrics import confusion_matrix\n",
    "\n",
    "import matplotlib.pyplot as plt\n",
    "\n",
    "train = pd.read_csv('C:/Users/Yash/OneDrive/Desktop/emoji/train_emoji.csv',header=None)\n",
    "test = pd.read_csv('C:/Users/Yash/OneDrive/Desktop/emoji/test_emoji.csv',header=None)"
   ]
  },
  {
   "cell_type": "markdown",
   "id": "e57ec382",
   "metadata": {},
   "source": [
    "#### Perform Exploratory Data Analysis (EDA)"
   ]
  },
  {
   "cell_type": "code",
   "execution_count": 75,
   "id": "0a1835c5",
   "metadata": {},
   "outputs": [
    {
     "data": {
      "text/html": [
       "<div>\n",
       "<style scoped>\n",
       "    .dataframe tbody tr th:only-of-type {\n",
       "        vertical-align: middle;\n",
       "    }\n",
       "\n",
       "    .dataframe tbody tr th {\n",
       "        vertical-align: top;\n",
       "    }\n",
       "\n",
       "    .dataframe thead th {\n",
       "        text-align: right;\n",
       "    }\n",
       "</style>\n",
       "<table border=\"1\" class=\"dataframe\">\n",
       "  <thead>\n",
       "    <tr style=\"text-align: right;\">\n",
       "      <th></th>\n",
       "      <th>0</th>\n",
       "      <th>1</th>\n",
       "      <th>2</th>\n",
       "      <th>3</th>\n",
       "    </tr>\n",
       "  </thead>\n",
       "  <tbody>\n",
       "    <tr>\n",
       "      <th>0</th>\n",
       "      <td>never talk to me again</td>\n",
       "      <td>3</td>\n",
       "      <td>NaN</td>\n",
       "      <td>NaN</td>\n",
       "    </tr>\n",
       "    <tr>\n",
       "      <th>1</th>\n",
       "      <td>I am proud of your achievements</td>\n",
       "      <td>2</td>\n",
       "      <td>NaN</td>\n",
       "      <td>NaN</td>\n",
       "    </tr>\n",
       "    <tr>\n",
       "      <th>2</th>\n",
       "      <td>It is the worst day in my life</td>\n",
       "      <td>3</td>\n",
       "      <td>NaN</td>\n",
       "      <td>NaN</td>\n",
       "    </tr>\n",
       "    <tr>\n",
       "      <th>3</th>\n",
       "      <td>Miss you so much</td>\n",
       "      <td>0</td>\n",
       "      <td>NaN</td>\n",
       "      <td>[0]</td>\n",
       "    </tr>\n",
       "    <tr>\n",
       "      <th>4</th>\n",
       "      <td>food is life</td>\n",
       "      <td>4</td>\n",
       "      <td>NaN</td>\n",
       "      <td>NaN</td>\n",
       "    </tr>\n",
       "  </tbody>\n",
       "</table>\n",
       "</div>"
      ],
      "text/plain": [
       "                                 0  1   2     3\n",
       "0           never talk to me again  3 NaN   NaN\n",
       "1  I am proud of your achievements  2 NaN   NaN\n",
       "2   It is the worst day in my life  3 NaN   NaN\n",
       "3                 Miss you so much  0 NaN   [0]\n",
       "4                     food is life  4 NaN   NaN"
      ]
     },
     "execution_count": 75,
     "metadata": {},
     "output_type": "execute_result"
    }
   ],
   "source": [
    "train.head()"
   ]
  },
  {
   "cell_type": "code",
   "execution_count": 76,
   "id": "c6f8e951",
   "metadata": {},
   "outputs": [
    {
     "data": {
      "text/html": [
       "<div>\n",
       "<style scoped>\n",
       "    .dataframe tbody tr th:only-of-type {\n",
       "        vertical-align: middle;\n",
       "    }\n",
       "\n",
       "    .dataframe tbody tr th {\n",
       "        vertical-align: top;\n",
       "    }\n",
       "\n",
       "    .dataframe thead th {\n",
       "        text-align: right;\n",
       "    }\n",
       "</style>\n",
       "<table border=\"1\" class=\"dataframe\">\n",
       "  <thead>\n",
       "    <tr style=\"text-align: right;\">\n",
       "      <th></th>\n",
       "      <th>0</th>\n",
       "      <th>1</th>\n",
       "    </tr>\n",
       "  </thead>\n",
       "  <tbody>\n",
       "    <tr>\n",
       "      <th>0</th>\n",
       "      <td>I want to eat\\t</td>\n",
       "      <td>4</td>\n",
       "    </tr>\n",
       "    <tr>\n",
       "      <th>1</th>\n",
       "      <td>he did not answer\\t</td>\n",
       "      <td>3</td>\n",
       "    </tr>\n",
       "    <tr>\n",
       "      <th>2</th>\n",
       "      <td>he got a raise\\t</td>\n",
       "      <td>2</td>\n",
       "    </tr>\n",
       "    <tr>\n",
       "      <th>3</th>\n",
       "      <td>she got me a present\\t</td>\n",
       "      <td>0</td>\n",
       "    </tr>\n",
       "    <tr>\n",
       "      <th>4</th>\n",
       "      <td>ha ha ha it was so funny\\t</td>\n",
       "      <td>2</td>\n",
       "    </tr>\n",
       "  </tbody>\n",
       "</table>\n",
       "</div>"
      ],
      "text/plain": [
       "                            0  1\n",
       "0             I want to eat\\t  4\n",
       "1         he did not answer\\t  3\n",
       "2            he got a raise\\t  2\n",
       "3      she got me a present\\t  0\n",
       "4  ha ha ha it was so funny\\t  2"
      ]
     },
     "execution_count": 76,
     "metadata": {},
     "output_type": "execute_result"
    }
   ],
   "source": [
    "test.head()"
   ]
  },
  {
   "cell_type": "code",
   "execution_count": 77,
   "id": "e9ec2a25",
   "metadata": {},
   "outputs": [],
   "source": [
    "emoji_dict = { 0 : \":heart:\", 1 : \":baseball:\", 2 : \":smile:\", 3 : \":disappointed:\", 4 : \":fork_and_knife:\"}"
   ]
  },
  {
   "cell_type": "code",
   "execution_count": 78,
   "id": "83787ceb",
   "metadata": {},
   "outputs": [
    {
     "name": "stdout",
     "output_type": "stream",
     "text": [
      "0 ❤️\n",
      "1 ⚾\n",
      "2 😄\n",
      "3 😞\n",
      "4 🍴\n"
     ]
    }
   ],
   "source": [
    "import emoji\n",
    "\n",
    "for ix in emoji_dict.keys():\n",
    "    print (ix,end=\" \")\n",
    "    print (emoji.emojize(emoji_dict[ix], use_aliases=True))"
   ]
  },
  {
   "cell_type": "code",
   "execution_count": 79,
   "id": "207f722d",
   "metadata": {},
   "outputs": [
    {
     "name": "stdout",
     "output_type": "stream",
     "text": [
      "(132,) (132,) (56,) (56,)\n"
     ]
    }
   ],
   "source": [
    "# Creating training and testing data\n",
    "X_train = train[0]\n",
    "Y_train = train[1]\n",
    "\n",
    "X_test = test[0]\n",
    "Y_test = test[1]\n",
    "\n",
    "print (X_train.shape, Y_train.shape, X_test.shape, Y_test.shape)"
   ]
  },
  {
   "cell_type": "code",
   "execution_count": 80,
   "id": "9429b7db",
   "metadata": {},
   "outputs": [
    {
     "name": "stderr",
     "output_type": "stream",
     "text": [
      "<ipython-input-80-f1bc63141b06>:2: SettingWithCopyWarning: \n",
      "A value is trying to be set on a copy of a slice from a DataFrame\n",
      "\n",
      "See the caveats in the documentation: https://pandas.pydata.org/pandas-docs/stable/user_guide/indexing.html#returning-a-view-versus-a-copy\n",
      "  X_train[ix] = X_train[ix].split()\n",
      "<ipython-input-80-f1bc63141b06>:5: SettingWithCopyWarning: \n",
      "A value is trying to be set on a copy of a slice from a DataFrame\n",
      "\n",
      "See the caveats in the documentation: https://pandas.pydata.org/pandas-docs/stable/user_guide/indexing.html#returning-a-view-versus-a-copy\n",
      "  X_test[ix] = X_test[ix].split()\n"
     ]
    }
   ],
   "source": [
    "for ix in range(X_train.shape[0]):\n",
    "    X_train[ix] = X_train[ix].split()\n",
    "\n",
    "for ix in range(X_test.shape[0]):\n",
    "    X_test[ix] = X_test[ix].split()\n",
    "    \n",
    "Y_train = to_categorical(Y_train)"
   ]
  },
  {
   "cell_type": "code",
   "execution_count": 81,
   "id": "6a05e3be",
   "metadata": {},
   "outputs": [
    {
     "name": "stdout",
     "output_type": "stream",
     "text": [
      "['never', 'talk', 'to', 'me', 'again'] [0. 0. 0. 1. 0.]\n"
     ]
    }
   ],
   "source": [
    "print (X_train[0],Y_train[0])"
   ]
  },
  {
   "cell_type": "code",
   "execution_count": 82,
   "id": "99e472ff",
   "metadata": {},
   "outputs": [
    {
     "data": {
      "text/plain": [
       "(array([ 1,  2,  3,  4,  5,  6,  7,  8,  9, 10]),\n",
       " array([ 4,  5, 26, 35, 20, 21, 11,  5,  1,  4], dtype=int64))"
      ]
     },
     "execution_count": 82,
     "metadata": {},
     "output_type": "execute_result"
    }
   ],
   "source": [
    "np.unique(np.array([len(ix) for ix in X_train]) , return_counts=True)"
   ]
  },
  {
   "cell_type": "code",
   "execution_count": 83,
   "id": "ca427feb",
   "metadata": {},
   "outputs": [
    {
     "data": {
      "text/plain": [
       "(array([2, 3, 4, 5, 6, 7, 8]),\n",
       " array([ 3, 12, 16, 17,  3,  4,  1], dtype=int64))"
      ]
     },
     "execution_count": 83,
     "metadata": {},
     "output_type": "execute_result"
    }
   ],
   "source": [
    "np.unique(np.array([len(ix) for ix in X_test]) , return_counts=True)"
   ]
  },
  {
   "cell_type": "code",
   "execution_count": 84,
   "id": "b93d7431",
   "metadata": {},
   "outputs": [],
   "source": [
    "embeddings_index = {}\n",
    "\n",
    "f = open('C:/Users/Yash/OneDrive/Desktop/emoji/glove.6B.50d.txt', encoding=\"utf-8\")\n",
    "for line in f:\n",
    "    values = line.split()\n",
    "    word = values[0]\n",
    "    coefs = np.asarray(values[1:], dtype='float32')\n",
    "    embeddings_index[word] = coefs\n",
    "f.close()"
   ]
  },
  {
   "cell_type": "code",
   "execution_count": 85,
   "id": "6e44a72c",
   "metadata": {},
   "outputs": [
    {
     "data": {
      "text/plain": [
       "(50,)"
      ]
     },
     "execution_count": 85,
     "metadata": {},
     "output_type": "execute_result"
    }
   ],
   "source": [
    "embeddings_index[\"i\"].shape"
   ]
  },
  {
   "cell_type": "code",
   "execution_count": 86,
   "id": "9229259c",
   "metadata": {},
   "outputs": [
    {
     "data": {
      "text/plain": [
       "0.31093674898147583"
      ]
     },
     "execution_count": 86,
     "metadata": {},
     "output_type": "execute_result"
    }
   ],
   "source": [
    "from scipy import spatial\n",
    "# Checking cosine similarity of words happy and sad\n",
    "spatial.distance.cosine(embeddings_index[\"happy\"], embeddings_index[\"sad\"])"
   ]
  },
  {
   "cell_type": "code",
   "execution_count": 87,
   "id": "f25f878e",
   "metadata": {},
   "outputs": [
    {
     "data": {
      "text/plain": [
       "0.18572336435317993"
      ]
     },
     "execution_count": 87,
     "metadata": {},
     "output_type": "execute_result"
    }
   ],
   "source": [
    "spatial.distance.cosine(embeddings_index[\"india\"], embeddings_index[\"delhi\"])"
   ]
  },
  {
   "cell_type": "code",
   "execution_count": 88,
   "id": "3b0b854b",
   "metadata": {},
   "outputs": [
    {
     "data": {
      "text/plain": [
       "0.19746702909469604"
      ]
     },
     "execution_count": 88,
     "metadata": {},
     "output_type": "execute_result"
    }
   ],
   "source": [
    "spatial.distance.cosine(embeddings_index[\"france\"], embeddings_index[\"paris\"])"
   ]
  },
  {
   "cell_type": "code",
   "execution_count": 89,
   "id": "6a05d138",
   "metadata": {},
   "outputs": [],
   "source": [
    "embedding_matrix_train = np.zeros((X_train.shape[0], 10, 50))\n",
    "embedding_matrix_test = np.zeros((X_test.shape[0], 10, 50))\n",
    "\n",
    "for ix in range(X_train.shape[0]):\n",
    "    for ij in range(len(X_train[ix])):\n",
    "        embedding_matrix_train[ix][ij] = embeddings_index[X_train[ix][ij].lower()]\n",
    "        \n",
    "for ix in range(X_test.shape[0]):\n",
    "    for ij in range(len(X_test[ix])):\n",
    "        embedding_matrix_test[ix][ij] = embeddings_index[X_test[ix][ij].lower()]"
   ]
  },
  {
   "cell_type": "code",
   "execution_count": 90,
   "id": "ca77bf52",
   "metadata": {},
   "outputs": [
    {
     "name": "stdout",
     "output_type": "stream",
     "text": [
      "(132, 10, 50) (56, 10, 50)\n"
     ]
    }
   ],
   "source": [
    "print (embedding_matrix_train.shape, embedding_matrix_test.shape)"
   ]
  },
  {
   "cell_type": "markdown",
   "id": "0ed300b7",
   "metadata": {},
   "source": [
    "#### Build the Text Classifier for Emoji Prediction"
   ]
  },
  {
   "cell_type": "code",
   "execution_count": 91,
   "id": "8ab4be8d",
   "metadata": {},
   "outputs": [
    {
     "name": "stdout",
     "output_type": "stream",
     "text": [
      "Model: \"sequential_1\"\n",
      "_________________________________________________________________\n",
      " Layer (type)                Output Shape              Param #   \n",
      "=================================================================\n",
      " lstm_2 (LSTM)               (None, 10, 128)           91648     \n",
      "                                                                 \n",
      " dropout_2 (Dropout)         (None, 10, 128)           0         \n",
      "                                                                 \n",
      " lstm_3 (LSTM)               (None, 128)               131584    \n",
      "                                                                 \n",
      " dropout_3 (Dropout)         (None, 128)               0         \n",
      "                                                                 \n",
      " dense_1 (Dense)             (None, 5)                 645       \n",
      "                                                                 \n",
      " activation_1 (Activation)   (None, 5)                 0         \n",
      "                                                                 \n",
      "=================================================================\n",
      "Total params: 223,877\n",
      "Trainable params: 223,877\n",
      "Non-trainable params: 0\n",
      "_________________________________________________________________\n"
     ]
    }
   ],
   "source": [
    "model = Sequential()\n",
    "model.add(LSTM(128, input_shape=(10,50), return_sequences=True))\n",
    "model.add(Dropout(0.5))\n",
    "model.add(LSTM(128, return_sequences=False))\n",
    "model.add(Dropout(0.5))\n",
    "model.add(Dense(5))\n",
    "model.add(Activation('softmax'))\n",
    "\n",
    "model.summary()"
   ]
  },
  {
   "cell_type": "code",
   "execution_count": 92,
   "id": "ec305cdc",
   "metadata": {},
   "outputs": [],
   "source": [
    "model.compile(loss='categorical_crossentropy', optimizer='adam', metrics=['accuracy'])"
   ]
  },
  {
   "cell_type": "markdown",
   "id": "e6b0f25e",
   "metadata": {},
   "source": [
    "#### TRAINING MODULE"
   ]
  },
  {
   "cell_type": "code",
   "execution_count": 93,
   "id": "6860f219",
   "metadata": {
    "scrolled": true
   },
   "outputs": [
    {
     "name": "stdout",
     "output_type": "stream",
     "text": [
      "Epoch 1/50\n",
      "5/5 [==============================] - 3s 17ms/step - loss: 1.5775 - accuracy: 0.3258\n",
      "Epoch 2/50\n",
      "5/5 [==============================] - 0s 12ms/step - loss: 1.5119 - accuracy: 0.3333\n",
      "Epoch 3/50\n",
      "5/5 [==============================] - 0s 12ms/step - loss: 1.4551 - accuracy: 0.3864\n",
      "Epoch 4/50\n",
      "5/5 [==============================] - 0s 13ms/step - loss: 1.3752 - accuracy: 0.4697\n",
      "Epoch 5/50\n",
      "5/5 [==============================] - 0s 13ms/step - loss: 1.2358 - accuracy: 0.5379\n",
      "Epoch 6/50\n",
      "5/5 [==============================] - 0s 13ms/step - loss: 1.0789 - accuracy: 0.6439\n",
      "Epoch 7/50\n",
      "5/5 [==============================] - 0s 14ms/step - loss: 0.9694 - accuracy: 0.6818\n",
      "Epoch 8/50\n",
      "5/5 [==============================] - 0s 13ms/step - loss: 0.8248 - accuracy: 0.6894\n",
      "Epoch 9/50\n",
      "5/5 [==============================] - 0s 13ms/step - loss: 0.7420 - accuracy: 0.7121\n",
      "Epoch 10/50\n",
      "5/5 [==============================] - 0s 13ms/step - loss: 0.6640 - accuracy: 0.7576\n",
      "Epoch 11/50\n",
      "5/5 [==============================] - 0s 13ms/step - loss: 0.5121 - accuracy: 0.8106\n",
      "Epoch 12/50\n",
      "5/5 [==============================] - 0s 12ms/step - loss: 0.5137 - accuracy: 0.7879\n",
      "Epoch 13/50\n",
      "5/5 [==============================] - 0s 13ms/step - loss: 0.4691 - accuracy: 0.8333\n",
      "Epoch 14/50\n",
      "5/5 [==============================] - 0s 13ms/step - loss: 0.4105 - accuracy: 0.8333\n",
      "Epoch 15/50\n",
      "5/5 [==============================] - 0s 14ms/step - loss: 0.3401 - accuracy: 0.8864\n",
      "Epoch 16/50\n",
      "5/5 [==============================] - 0s 12ms/step - loss: 0.4069 - accuracy: 0.8788\n",
      "Epoch 17/50\n",
      "5/5 [==============================] - 0s 13ms/step - loss: 0.5045 - accuracy: 0.8333\n",
      "Epoch 18/50\n",
      "5/5 [==============================] - 0s 14ms/step - loss: 0.4840 - accuracy: 0.8182\n",
      "Epoch 19/50\n",
      "5/5 [==============================] - 0s 12ms/step - loss: 0.3334 - accuracy: 0.8788\n",
      "Epoch 20/50\n",
      "5/5 [==============================] - 0s 13ms/step - loss: 0.3146 - accuracy: 0.8788\n",
      "Epoch 21/50\n",
      "5/5 [==============================] - 0s 14ms/step - loss: 0.3914 - accuracy: 0.8636\n",
      "Epoch 22/50\n",
      "5/5 [==============================] - 0s 13ms/step - loss: 0.2464 - accuracy: 0.9167\n",
      "Epoch 23/50\n",
      "5/5 [==============================] - 0s 12ms/step - loss: 0.2496 - accuracy: 0.9091\n",
      "Epoch 24/50\n",
      "5/5 [==============================] - 0s 13ms/step - loss: 0.1972 - accuracy: 0.9470\n",
      "Epoch 25/50\n",
      "5/5 [==============================] - 0s 14ms/step - loss: 0.2146 - accuracy: 0.9318\n",
      "Epoch 26/50\n",
      "5/5 [==============================] - 0s 13ms/step - loss: 0.2010 - accuracy: 0.9318\n",
      "Epoch 27/50\n",
      "5/5 [==============================] - 0s 13ms/step - loss: 0.2656 - accuracy: 0.9091\n",
      "Epoch 28/50\n",
      "5/5 [==============================] - 0s 14ms/step - loss: 0.2270 - accuracy: 0.9167\n",
      "Epoch 29/50\n",
      "5/5 [==============================] - 0s 13ms/step - loss: 0.2143 - accuracy: 0.9394\n",
      "Epoch 30/50\n",
      "5/5 [==============================] - 0s 13ms/step - loss: 0.1662 - accuracy: 0.9470\n",
      "Epoch 31/50\n",
      "5/5 [==============================] - 0s 14ms/step - loss: 0.1951 - accuracy: 0.9091\n",
      "Epoch 32/50\n",
      "5/5 [==============================] - 0s 13ms/step - loss: 0.1710 - accuracy: 0.9545\n",
      "Epoch 33/50\n",
      "5/5 [==============================] - 0s 13ms/step - loss: 0.1111 - accuracy: 0.9697\n",
      "Epoch 34/50\n",
      "5/5 [==============================] - 0s 14ms/step - loss: 0.1127 - accuracy: 0.9621\n",
      "Epoch 35/50\n",
      "5/5 [==============================] - 0s 13ms/step - loss: 0.0747 - accuracy: 0.9848\n",
      "Epoch 36/50\n",
      "5/5 [==============================] - 0s 13ms/step - loss: 0.0700 - accuracy: 0.9848\n",
      "Epoch 37/50\n",
      "5/5 [==============================] - 0s 14ms/step - loss: 0.0657 - accuracy: 0.9848\n",
      "Epoch 38/50\n",
      "5/5 [==============================] - 0s 14ms/step - loss: 0.0435 - accuracy: 0.9848\n",
      "Epoch 39/50\n",
      "5/5 [==============================] - 0s 13ms/step - loss: 0.0373 - accuracy: 0.9848\n",
      "Epoch 40/50\n",
      "5/5 [==============================] - 0s 13ms/step - loss: 0.0252 - accuracy: 0.9924\n",
      "Epoch 41/50\n",
      "5/5 [==============================] - 0s 14ms/step - loss: 0.0488 - accuracy: 0.9697\n",
      "Epoch 42/50\n",
      "5/5 [==============================] - 0s 12ms/step - loss: 0.0833 - accuracy: 0.9773\n",
      "Epoch 43/50\n",
      "5/5 [==============================] - 0s 13ms/step - loss: 0.0571 - accuracy: 0.9697\n",
      "Epoch 44/50\n",
      "5/5 [==============================] - 0s 13ms/step - loss: 0.1399 - accuracy: 0.9621\n",
      "Epoch 45/50\n",
      "5/5 [==============================] - 0s 13ms/step - loss: 0.1459 - accuracy: 0.9545\n",
      "Epoch 46/50\n",
      "5/5 [==============================] - 0s 14ms/step - loss: 0.0966 - accuracy: 0.9621\n",
      "Epoch 47/50\n",
      "5/5 [==============================] - 0s 13ms/step - loss: 0.0626 - accuracy: 0.9545\n",
      "Epoch 48/50\n",
      "5/5 [==============================] - 0s 13ms/step - loss: 0.0511 - accuracy: 0.9773\n",
      "Epoch 49/50\n",
      "5/5 [==============================] - 0s 13ms/step - loss: 0.0311 - accuracy: 1.0000\n",
      "Epoch 50/50\n",
      "5/5 [==============================] - 0s 12ms/step - loss: 0.0207 - accuracy: 1.0000\n"
     ]
    }
   ],
   "source": [
    "hist = model.fit(embedding_matrix_train,\n",
    "                 Y_train,\n",
    "                 epochs = 50, \n",
    "                 batch_size=32,\n",
    "                 shuffle=True\n",
    "                )"
   ]
  },
  {
   "cell_type": "code",
   "execution_count": 94,
   "id": "a6ec1491",
   "metadata": {},
   "outputs": [
    {
     "data": {
      "text/plain": [
       "0.0"
      ]
     },
     "execution_count": 94,
     "metadata": {},
     "output_type": "execute_result"
    }
   ],
   "source": [
    "y_pred = model.predict(embedding_matrix_test)\n",
    "y_pred = np.round(y_pred).astype(int)\n",
    "float(sum(y_pred==Y_test))/embedding_matrix_test.shape[0]"
   ]
  },
  {
   "cell_type": "code",
   "execution_count": 99,
   "id": "f334a5c3",
   "metadata": {},
   "outputs": [
    {
     "name": "stdout",
     "output_type": "stream",
     "text": [
      "0\n",
      "['I', 'want', 'to', 'eat'] 🍴\n",
      "1\n",
      "['he', 'did', 'not', 'answer'] 😞\n",
      "2\n",
      "['he', 'got', 'a', 'raise'] 😄\n",
      "4\n",
      "['ha', 'ha', 'ha', 'it', 'was', 'so', 'funny'] 😄\n",
      "8\n",
      "['where', 'is', 'the', 'food'] 🍴\n",
      "9\n",
      "['Stop', 'making', 'this', 'joke', 'ha', 'ha', 'ha'] 😄\n",
      "11\n",
      "['work', 'is', 'hard'] 😞\n",
      "12\n",
      "['This', 'girl', 'is', 'messing', 'with', 'me'] 😞\n",
      "13\n",
      "['are', 'you', 'serious', 'ha', 'ha'] 😄\n",
      "15\n",
      "['This', 'stupid', 'grader', 'is', 'not', 'working'] 😞\n",
      "16\n",
      "['work', 'is', 'horrible'] 😞\n",
      "17\n",
      "['Congratulation', 'for', 'having', 'a', 'baby'] 😄\n",
      "18\n",
      "['stop', 'messing', 'around'] 😞\n",
      "19\n",
      "['any', 'suggestions', 'for', 'dinner'] 🍴\n",
      "21\n",
      "['you', 'brighten', 'my', 'day'] 😄\n",
      "22\n",
      "['I', 'boiled', 'rice'] 🍴\n",
      "23\n",
      "['she', 'is', 'a', 'bully'] 😞\n",
      "24\n",
      "['Why', 'are', 'you', 'feeling', 'bad'] 😞\n",
      "25\n",
      "['I', 'am', 'upset'] 😞\n",
      "26\n",
      "['I', 'worked', 'during', 'my', 'birthday'] 😞\n",
      "28\n",
      "['enjoy', 'your', 'break'] 😄\n",
      "32\n",
      "['My', 'life', 'is', 'so', 'boring'] 😞\n",
      "33\n",
      "['she', 'said', 'yes'] 😄\n",
      "36\n",
      "['dance', 'with', 'me'] 😄\n",
      "37\n",
      "['I', 'am', 'starving'] 🍴\n",
      "38\n",
      "['See', 'you', 'at', 'the', 'restaurant'] 🍴\n",
      "39\n",
      "['I', 'like', 'to', 'laugh'] 😄\n",
      "40\n",
      "['I', 'will', 'go', 'dance'] 😄\n",
      "41\n",
      "['I', 'like', 'your', 'jacket'] 😄\n",
      "44\n",
      "['Good', 'job'] 😄\n",
      "46\n",
      "['What', 'you', 'did', 'was', 'awesome'] 😄\n",
      "47\n",
      "['ha', 'ha', 'ha', 'lol'] 😄\n",
      "48\n",
      "['I', 'want', 'to', 'joke'] 😄\n",
      "49\n",
      "['go', 'away'] 😞\n",
      "50\n",
      "['yesterday', 'we', 'lost', 'again'] 😞\n",
      "52\n",
      "['you', 'are', 'failing', 'this', 'exercise'] 😞\n",
      "53\n",
      "['Good', 'joke'] 😄\n",
      "54\n",
      "['You', 'totally', 'deserve', 'this', 'prize'] 😄\n",
      "55\n",
      "['I', 'did', 'not', 'have', 'breakfast'] 😞\n"
     ]
    }
   ],
   "source": [
    "for ix in range(embedding_matrix_test.shape[0]):\n",
    "    \n",
    "    if (y_pred[ix] != Y_test[ix]).all():\n",
    "        print(ix)\n",
    "        print (test[0][ix],end=\" \")\n",
    "        print (emoji.emojize(emoji_dict[Y_test[ix]], use_aliases=True))"
   ]
  },
  {
   "cell_type": "markdown",
   "id": "6dbada6c",
   "metadata": {},
   "source": [
    "#### Plot the loss and accuracies of our model on the dataset."
   ]
  },
  {
   "cell_type": "code",
   "execution_count": 98,
   "id": "58659d73",
   "metadata": {},
   "outputs": [
    {
     "data": {
      "image/png": "[encoded data removed]",
      "text/plain": [
       "<Figure size 432x288 with 1 Axes>"
      ]
     },
     "metadata": {},
     "output_type": "display_data"
    }
   ],
   "source": [
    "epochs = 50\n",
    "plt.style.use(\"ggplot\")\n",
    "plt.figure()\n",
    "plt.plot(np.arange(0, epochs), hist.history[\"loss\"], label = \"Train Loss\")\n",
    "plt.plot(np.arange(0, epochs), hist.history[\"accuracy\"], label = \"Train Acc\")\n",
    "plt.title(\"Loss and Accuracy plot\")\n",
    "plt.xlabel(\"Epoch\")\n",
    "plt.ylabel(\"Loss / Accuracy\")\n",
    "plt.legend(loc = \"lower left\")\n",
    "plt.savefig(\"plot.jpg\")"
   ]
  },
  {
   "cell_type": "code",
   "execution_count": null,
   "id": "4b5eaed2",
   "metadata": {},
   "outputs": [],
   "source": []
  }
 ],
 "metadata": {
  "kernelspec": {
   "display_name": "Python 3",
   "language": "python",
   "name": "python3"
  },
  "language_info": {
   "codemirror_mode": {
    "name": "ipython",
    "version": 3
   },
   "file_extension": ".py",
   "mimetype": "text/x-python",
   "name": "python",
   "nbconvert_exporter": "python",
   "pygments_lexer": "ipython3",
   "version": "3.8.8"
  }
 },
 "nbformat": 4,
 "nbformat_minor": 5
}
